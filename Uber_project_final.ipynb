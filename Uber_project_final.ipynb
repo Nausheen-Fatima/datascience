{
  "nbformat": 4,
  "nbformat_minor": 0,
  "metadata": {
    "colab": {
      "name": "Uber_project_final.ipynb",
      "version": "0.3.2",
      "provenance": [],
      "collapsed_sections": [],
      "include_colab_link": true
    },
    "kernelspec": {
      "name": "python3",
      "display_name": "Python 3"
    }
  },
  "cells": [
    {
      "cell_type": "markdown",
      "metadata": {
        "id": "view-in-github",
        "colab_type": "text"
      },
      "source": [
        "<a href=\"https://colab.research.google.com/github/naushy786/123/blob/master/Uber_project_final.ipynb\" target=\"_parent\"><img src=\"https://colab.research.google.com/assets/colab-badge.svg\" alt=\"Open In Colab\"/></a>"
      ]
    },
    {
      "cell_type": "markdown",
      "metadata": {
        "id": "tDTI8b9rkhfm",
        "colab_type": "text"
      },
      "source": [
        "# UBER SUPPLY DEMAND GAP"
      ]
    },
    {
      "cell_type": "markdown",
      "metadata": {
        "id": "94Er17-VmNT6",
        "colab_type": "text"
      },
      "source": [
        "### ABSTRACT\n",
        "\n",
        "> **Objective**: Identify the root cause of the Supply-Demand problem at Airport-City travels for Uber.<br>\n",
        "Recommend ways to improve the situation.\n",
        "\n",
        "\n",
        "> **Problem Statement**:Uber is an online cab rental service provider.Uber is facing driver cancellation and non-availability of cars issue for commutation from or to the airport leading impact on the business and loss of potential revenue.<br>\n",
        "\n",
        "\n",
        "> **Approach**:\n",
        "\n",
        "*   Identify the most pressing problems for Uber.\n",
        "*   Identify the gap between supply and demand of requests\n",
        "*   Identify the reason for the supply-demand gap and recommend some ways to resolve them.\n",
        "\n",
        "\n",
        "\n",
        "\n",
        "\n",
        "\n",
        "\n",
        "\n"
      ]
    },
    {
      "cell_type": "markdown",
      "metadata": {
        "id": "t2MjsD-2qrpe",
        "colab_type": "text"
      },
      "source": [
        "**Variables used in dataset**\n",
        "\n",
        "*   Request id: A unique identifier of the request\n",
        "*  Time of request: The date and time at which the customer made the trip request\n",
        "*  Drop-off time: The drop-off date and time, in case the trip was completed \n",
        "*  Pick-up point: The point from which the request was made\n",
        "*  Driver id: The unique identification number of the driver\n",
        "*  Status of the request: The final status of the trip, that can be either completed, cancelled by the driver or no cars available\n",
        "\n",
        "\n"
      ]
    },
    {
      "cell_type": "code",
      "metadata": {
        "id": "tpuo5aNImM0O",
        "colab_type": "code",
        "colab": {}
      },
      "source": [
        "import pandas as pd\n",
        "import numpy as np\n",
        "import seaborn as sns\n",
        "import matplotlib.pyplot as plt\n",
        "import datetime"
      ],
      "execution_count": 0,
      "outputs": []
    },
    {
      "cell_type": "code",
      "metadata": {
        "id": "D0n5uwGakVok",
        "colab_type": "code",
        "outputId": "abbd28f0-5910-4748-8ca7-c9411504e5a2",
        "colab": {
          "resources": {
            "http://localhost:8080/nbextensions/google.colab/files.js": {
              "data": "Ly8gQ29weXJpZ2h0IDIwMTcgR29vZ2xlIExMQwovLwovLyBMaWNlbnNlZCB1bmRlciB0aGUgQXBhY2hlIExpY2Vuc2UsIFZlcnNpb24gMi4wICh0aGUgIkxpY2Vuc2UiKTsKLy8geW91IG1heSBub3QgdXNlIHRoaXMgZmlsZSBleGNlcHQgaW4gY29tcGxpYW5jZSB3aXRoIHRoZSBMaWNlbnNlLgovLyBZb3UgbWF5IG9idGFpbiBhIGNvcHkgb2YgdGhlIExpY2Vuc2UgYXQKLy8KLy8gICAgICBodHRwOi8vd3d3LmFwYWNoZS5vcmcvbGljZW5zZXMvTElDRU5TRS0yLjAKLy8KLy8gVW5sZXNzIHJlcXVpcmVkIGJ5IGFwcGxpY2FibGUgbGF3IG9yIGFncmVlZCB0byBpbiB3cml0aW5nLCBzb2Z0d2FyZQovLyBkaXN0cmlidXRlZCB1bmRlciB0aGUgTGljZW5zZSBpcyBkaXN0cmlidXRlZCBvbiBhbiAiQVMgSVMiIEJBU0lTLAovLyBXSVRIT1VUIFdBUlJBTlRJRVMgT1IgQ09ORElUSU9OUyBPRiBBTlkgS0lORCwgZWl0aGVyIGV4cHJlc3Mgb3IgaW1wbGllZC4KLy8gU2VlIHRoZSBMaWNlbnNlIGZvciB0aGUgc3BlY2lmaWMgbGFuZ3VhZ2UgZ292ZXJuaW5nIHBlcm1pc3Npb25zIGFuZAovLyBsaW1pdGF0aW9ucyB1bmRlciB0aGUgTGljZW5zZS4KCi8qKgogKiBAZmlsZW92ZXJ2aWV3IEhlbHBlcnMgZm9yIGdvb2dsZS5jb2xhYiBQeXRob24gbW9kdWxlLgogKi8KKGZ1bmN0aW9uKHNjb3BlKSB7CmZ1bmN0aW9uIHNwYW4odGV4dCwgc3R5bGVBdHRyaWJ1dGVzID0ge30pIHsKICBjb25zdCBlbGVtZW50ID0gZG9jdW1lbnQuY3JlYXRlRWxlbWVudCgnc3BhbicpOwogIGVsZW1lbnQudGV4dENvbnRlbnQgPSB0ZXh0OwogIGZvciAoY29uc3Qga2V5IG9mIE9iamVjdC5rZXlzKHN0eWxlQXR0cmlidXRlcykpIHsKICAgIGVsZW1lbnQuc3R5bGVba2V5XSA9IHN0eWxlQXR0cmlidXRlc1trZXldOwogIH0KICByZXR1cm4gZWxlbWVudDsKfQoKLy8gTWF4IG51bWJlciBvZiBieXRlcyB3aGljaCB3aWxsIGJlIHVwbG9hZGVkIGF0IGEgdGltZS4KY29uc3QgTUFYX1BBWUxPQURfU0laRSA9IDEwMCAqIDEwMjQ7Ci8vIE1heCBhbW91bnQgb2YgdGltZSB0byBibG9jayB3YWl0aW5nIGZvciB0aGUgdXNlci4KY29uc3QgRklMRV9DSEFOR0VfVElNRU9VVF9NUyA9IDMwICogMTAwMDsKCmZ1bmN0aW9uIF91cGxvYWRGaWxlcyhpbnB1dElkLCBvdXRwdXRJZCkgewogIGNvbnN0IHN0ZXBzID0gdXBsb2FkRmlsZXNTdGVwKGlucHV0SWQsIG91dHB1dElkKTsKICBjb25zdCBvdXRwdXRFbGVtZW50ID0gZG9jdW1lbnQuZ2V0RWxlbWVudEJ5SWQob3V0cHV0SWQpOwogIC8vIENhY2hlIHN0ZXBzIG9uIHRoZSBvdXRwdXRFbGVtZW50IHRvIG1ha2UgaXQgYXZhaWxhYmxlIGZvciB0aGUgbmV4dCBjYWxsCiAgLy8gdG8gdXBsb2FkRmlsZXNDb250aW51ZSBmcm9tIFB5dGhvbi4KICBvdXRwdXRFbGVtZW50LnN0ZXBzID0gc3RlcHM7CgogIHJldHVybiBfdXBsb2FkRmlsZXNDb250aW51ZShvdXRwdXRJZCk7Cn0KCi8vIFRoaXMgaXMgcm91Z2hseSBhbiBhc3luYyBnZW5lcmF0b3IgKG5vdCBzdXBwb3J0ZWQgaW4gdGhlIGJyb3dzZXIgeWV0KSwKLy8gd2hlcmUgdGhlcmUgYXJlIG11bHRpcGxlIGFzeW5jaHJvbm91cyBzdGVwcyBhbmQgdGhlIFB5dGhvbiBzaWRlIGlzIGdvaW5nCi8vIHRvIHBvbGwgZm9yIGNvbXBsZXRpb24gb2YgZWFjaCBzdGVwLgovLyBUaGlzIHVzZXMgYSBQcm9taXNlIHRvIGJsb2NrIHRoZSBweXRob24gc2lkZSBvbiBjb21wbGV0aW9uIG9mIGVhY2ggc3RlcCwKLy8gdGhlbiBwYXNzZXMgdGhlIHJlc3VsdCBvZiB0aGUgcHJldmlvdXMgc3RlcCBhcyB0aGUgaW5wdXQgdG8gdGhlIG5leHQgc3RlcC4KZnVuY3Rpb24gX3VwbG9hZEZpbGVzQ29udGludWUob3V0cHV0SWQpIHsKICBjb25zdCBvdXRwdXRFbGVtZW50ID0gZG9jdW1lbnQuZ2V0RWxlbWVudEJ5SWQob3V0cHV0SWQpOwogIGNvbnN0IHN0ZXBzID0gb3V0cHV0RWxlbWVudC5zdGVwczsKCiAgY29uc3QgbmV4dCA9IHN0ZXBzLm5leHQob3V0cHV0RWxlbWVudC5sYXN0UHJvbWlzZVZhbHVlKTsKICByZXR1cm4gUHJvbWlzZS5yZXNvbHZlKG5leHQudmFsdWUucHJvbWlzZSkudGhlbigodmFsdWUpID0+IHsKICAgIC8vIENhY2hlIHRoZSBsYXN0IHByb21pc2UgdmFsdWUgdG8gbWFrZSBpdCBhdmFpbGFibGUgdG8gdGhlIG5leHQKICAgIC8vIHN0ZXAgb2YgdGhlIGdlbmVyYXRvci4KICAgIG91dHB1dEVsZW1lbnQubGFzdFByb21pc2VWYWx1ZSA9IHZhbHVlOwogICAgcmV0dXJuIG5leHQudmFsdWUucmVzcG9uc2U7CiAgfSk7Cn0KCi8qKgogKiBHZW5lcmF0b3IgZnVuY3Rpb24gd2hpY2ggaXMgY2FsbGVkIGJldHdlZW4gZWFjaCBhc3luYyBzdGVwIG9mIHRoZSB1cGxvYWQKICogcHJvY2Vzcy4KICogQHBhcmFtIHtzdHJpbmd9IGlucHV0SWQgRWxlbWVudCBJRCBvZiB0aGUgaW5wdXQgZmlsZSBwaWNrZXIgZWxlbWVudC4KICogQHBhcmFtIHtzdHJpbmd9IG91dHB1dElkIEVsZW1lbnQgSUQgb2YgdGhlIG91dHB1dCBkaXNwbGF5LgogKiBAcmV0dXJuIHshSXRlcmFibGU8IU9iamVjdD59IEl0ZXJhYmxlIG9mIG5leHQgc3RlcHMuCiAqLwpmdW5jdGlvbiogdXBsb2FkRmlsZXNTdGVwKGlucHV0SWQsIG91dHB1dElkKSB7CiAgY29uc3QgaW5wdXRFbGVtZW50ID0gZG9jdW1lbnQuZ2V0RWxlbWVudEJ5SWQoaW5wdXRJZCk7CiAgaW5wdXRFbGVtZW50LmRpc2FibGVkID0gZmFsc2U7CgogIGNvbnN0IG91dHB1dEVsZW1lbnQgPSBkb2N1bWVudC5nZXRFbGVtZW50QnlJZChvdXRwdXRJZCk7CiAgb3V0cHV0RWxlbWVudC5pbm5lckhUTUwgPSAnJzsKCiAgY29uc3QgcGlja2VkUHJvbWlzZSA9IG5ldyBQcm9taXNlKChyZXNvbHZlKSA9PiB7CiAgICBpbnB1dEVsZW1lbnQuYWRkRXZlbnRMaXN0ZW5lcignY2hhbmdlJywgKGUpID0+IHsKICAgICAgcmVzb2x2ZShlLnRhcmdldC5maWxlcyk7CiAgICB9KTsKICB9KTsKCiAgY29uc3QgY2FuY2VsID0gZG9jdW1lbnQuY3JlYXRlRWxlbWVudCgnYnV0dG9uJyk7CiAgaW5wdXRFbGVtZW50LnBhcmVudEVsZW1lbnQuYXBwZW5kQ2hpbGQoY2FuY2VsKTsKICBjYW5jZWwudGV4dENvbnRlbnQgPSAnQ2FuY2VsIHVwbG9hZCc7CiAgY29uc3QgY2FuY2VsUHJvbWlzZSA9IG5ldyBQcm9taXNlKChyZXNvbHZlKSA9PiB7CiAgICBjYW5jZWwub25jbGljayA9ICgpID0+IHsKICAgICAgcmVzb2x2ZShudWxsKTsKICAgIH07CiAgfSk7CgogIC8vIENhbmNlbCB1cGxvYWQgaWYgdXNlciBoYXNuJ3QgcGlja2VkIGFueXRoaW5nIGluIHRpbWVvdXQuCiAgY29uc3QgdGltZW91dFByb21pc2UgPSBuZXcgUHJvbWlzZSgocmVzb2x2ZSkgPT4gewogICAgc2V0VGltZW91dCgoKSA9PiB7CiAgICAgIHJlc29sdmUobnVsbCk7CiAgICB9LCBGSUxFX0NIQU5HRV9USU1FT1VUX01TKTsKICB9KTsKCiAgLy8gV2FpdCBmb3IgdGhlIHVzZXIgdG8gcGljayB0aGUgZmlsZXMuCiAgY29uc3QgZmlsZXMgPSB5aWVsZCB7CiAgICBwcm9taXNlOiBQcm9taXNlLnJhY2UoW3BpY2tlZFByb21pc2UsIHRpbWVvdXRQcm9taXNlLCBjYW5jZWxQcm9taXNlXSksCiAgICByZXNwb25zZTogewogICAgICBhY3Rpb246ICdzdGFydGluZycsCiAgICB9CiAgfTsKCiAgaWYgKCFmaWxlcykgewogICAgcmV0dXJuIHsKICAgICAgcmVzcG9uc2U6IHsKICAgICAgICBhY3Rpb246ICdjb21wbGV0ZScsCiAgICAgIH0KICAgIH07CiAgfQoKICBjYW5jZWwucmVtb3ZlKCk7CgogIC8vIERpc2FibGUgdGhlIGlucHV0IGVsZW1lbnQgc2luY2UgZnVydGhlciBwaWNrcyBhcmUgbm90IGFsbG93ZWQuCiAgaW5wdXRFbGVtZW50LmRpc2FibGVkID0gdHJ1ZTsKCiAgZm9yIChjb25zdCBmaWxlIG9mIGZpbGVzKSB7CiAgICBjb25zdCBsaSA9IGRvY3VtZW50LmNyZWF0ZUVsZW1lbnQoJ2xpJyk7CiAgICBsaS5hcHBlbmQoc3BhbihmaWxlLm5hbWUsIHtmb250V2VpZ2h0OiAnYm9sZCd9KSk7CiAgICBsaS5hcHBlbmQoc3BhbigKICAgICAgICBgKCR7ZmlsZS50eXBlIHx8ICduL2EnfSkgLSAke2ZpbGUuc2l6ZX0gYnl0ZXMsIGAgKwogICAgICAgIGBsYXN0IG1vZGlmaWVkOiAkewogICAgICAgICAgICBmaWxlLmxhc3RNb2RpZmllZERhdGUgPyBmaWxlLmxhc3RNb2RpZmllZERhdGUudG9Mb2NhbGVEYXRlU3RyaW5nKCkgOgogICAgICAgICAgICAgICAgICAgICAgICAgICAgICAgICAgICAnbi9hJ30gLSBgKSk7CiAgICBjb25zdCBwZXJjZW50ID0gc3BhbignMCUgZG9uZScpOwogICAgbGkuYXBwZW5kQ2hpbGQocGVyY2VudCk7CgogICAgb3V0cHV0RWxlbWVudC5hcHBlbmRDaGlsZChsaSk7CgogICAgY29uc3QgZmlsZURhdGFQcm9taXNlID0gbmV3IFByb21pc2UoKHJlc29sdmUpID0+IHsKICAgICAgY29uc3QgcmVhZGVyID0gbmV3IEZpbGVSZWFkZXIoKTsKICAgICAgcmVhZGVyLm9ubG9hZCA9IChlKSA9PiB7CiAgICAgICAgcmVzb2x2ZShlLnRhcmdldC5yZXN1bHQpOwogICAgICB9OwogICAgICByZWFkZXIucmVhZEFzQXJyYXlCdWZmZXIoZmlsZSk7CiAgICB9KTsKICAgIC8vIFdhaXQgZm9yIHRoZSBkYXRhIHRvIGJlIHJlYWR5LgogICAgbGV0IGZpbGVEYXRhID0geWllbGQgewogICAgICBwcm9taXNlOiBmaWxlRGF0YVByb21pc2UsCiAgICAgIHJlc3BvbnNlOiB7CiAgICAgICAgYWN0aW9uOiAnY29udGludWUnLAogICAgICB9CiAgICB9OwoKICAgIC8vIFVzZSBhIGNodW5rZWQgc2VuZGluZyB0byBhdm9pZCBtZXNzYWdlIHNpemUgbGltaXRzLiBTZWUgYi82MjExNTY2MC4KICAgIGxldCBwb3NpdGlvbiA9IDA7CiAgICB3aGlsZSAocG9zaXRpb24gPCBmaWxlRGF0YS5ieXRlTGVuZ3RoKSB7CiAgICAgIGNvbnN0IGxlbmd0aCA9IE1hdGgubWluKGZpbGVEYXRhLmJ5dGVMZW5ndGggLSBwb3NpdGlvbiwgTUFYX1BBWUxPQURfU0laRSk7CiAgICAgIGNvbnN0IGNodW5rID0gbmV3IFVpbnQ4QXJyYXkoZmlsZURhdGEsIHBvc2l0aW9uLCBsZW5ndGgpOwogICAgICBwb3NpdGlvbiArPSBsZW5ndGg7CgogICAgICBjb25zdCBiYXNlNjQgPSBidG9hKFN0cmluZy5mcm9tQ2hhckNvZGUuYXBwbHkobnVsbCwgY2h1bmspKTsKICAgICAgeWllbGQgewogICAgICAgIHJlc3BvbnNlOiB7CiAgICAgICAgICBhY3Rpb246ICdhcHBlbmQnLAogICAgICAgICAgZmlsZTogZmlsZS5uYW1lLAogICAgICAgICAgZGF0YTogYmFzZTY0LAogICAgICAgIH0sCiAgICAgIH07CiAgICAgIHBlcmNlbnQudGV4dENvbnRlbnQgPQogICAgICAgICAgYCR7TWF0aC5yb3VuZCgocG9zaXRpb24gLyBmaWxlRGF0YS5ieXRlTGVuZ3RoKSAqIDEwMCl9JSBkb25lYDsKICAgIH0KICB9CgogIC8vIEFsbCBkb25lLgogIHlpZWxkIHsKICAgIHJlc3BvbnNlOiB7CiAgICAgIGFjdGlvbjogJ2NvbXBsZXRlJywKICAgIH0KICB9Owp9CgpzY29wZS5nb29nbGUgPSBzY29wZS5nb29nbGUgfHwge307CnNjb3BlLmdvb2dsZS5jb2xhYiA9IHNjb3BlLmdvb2dsZS5jb2xhYiB8fCB7fTsKc2NvcGUuZ29vZ2xlLmNvbGFiLl9maWxlcyA9IHsKICBfdXBsb2FkRmlsZXMsCiAgX3VwbG9hZEZpbGVzQ29udGludWUsCn07Cn0pKHNlbGYpOwo=",
              "ok": true,
              "headers": [
                [
                  "content-type",
                  "application/javascript"
                ]
              ],
              "status": 200,
              "status_text": ""
            }
          },
          "base_uri": "https://localhost:8080/",
          "height": 74
        }
      },
      "source": [
        "from google.colab import files               # Uploading the dataset\n",
        "uploaded = files.upload()"
      ],
      "execution_count": 0,
      "outputs": [
        {
          "output_type": "display_data",
          "data": {
            "text/html": [
              "\n",
              "     <input type=\"file\" id=\"files-e2809ed0-41af-448e-a78a-3eee2263bc65\" name=\"files[]\" multiple disabled />\n",
              "     <output id=\"result-e2809ed0-41af-448e-a78a-3eee2263bc65\">\n",
              "      Upload widget is only available when the cell has been executed in the\n",
              "      current browser session. Please rerun this cell to enable.\n",
              "      </output>\n",
              "      <script src=\"/nbextensions/google.colab/files.js\"></script> "
            ],
            "text/plain": [
              "<IPython.core.display.HTML object>"
            ]
          },
          "metadata": {
            "tags": []
          }
        },
        {
          "output_type": "stream",
          "text": [
            "Saving Uber Request Data.csv to Uber Request Data.csv\n"
          ],
          "name": "stdout"
        }
      ]
    },
    {
      "cell_type": "code",
      "metadata": {
        "id": "SusNH6OjrOYQ",
        "colab_type": "code",
        "colab": {}
      },
      "source": [
        "import io\n",
        "df = pd.read_csv(io.BytesIO(uploaded['Uber Request Data.csv']))\n"
      ],
      "execution_count": 0,
      "outputs": []
    },
    {
      "cell_type": "code",
      "metadata": {
        "id": "RtuNI_uTsSe5",
        "colab_type": "code",
        "outputId": "e7d1ec8c-e44d-4fb2-dab5-50e0b4cc1037",
        "colab": {
          "base_uri": "https://localhost:8080/",
          "height": 34
        }
      },
      "source": [
        "df.shape                                    #Checking the dimension of dataset"
      ],
      "execution_count": 0,
      "outputs": [
        {
          "output_type": "execute_result",
          "data": {
            "text/plain": [
              "(6745, 6)"
            ]
          },
          "metadata": {
            "tags": []
          },
          "execution_count": 4
        }
      ]
    },
    {
      "cell_type": "code",
      "metadata": {
        "id": "rpxkLvtLrXKl",
        "colab_type": "code",
        "outputId": "0d38cbb7-1085-449e-f428-584249b8c765",
        "colab": {
          "base_uri": "https://localhost:8080/",
          "height": 195
        }
      },
      "source": [
        "df.head()"
      ],
      "execution_count": 0,
      "outputs": [
        {
          "output_type": "execute_result",
          "data": {
            "text/html": [
              "<div>\n",
              "<style scoped>\n",
              "    .dataframe tbody tr th:only-of-type {\n",
              "        vertical-align: middle;\n",
              "    }\n",
              "\n",
              "    .dataframe tbody tr th {\n",
              "        vertical-align: top;\n",
              "    }\n",
              "\n",
              "    .dataframe thead th {\n",
              "        text-align: right;\n",
              "    }\n",
              "</style>\n",
              "<table border=\"1\" class=\"dataframe\">\n",
              "  <thead>\n",
              "    <tr style=\"text-align: right;\">\n",
              "      <th></th>\n",
              "      <th>Request id</th>\n",
              "      <th>Pickup point</th>\n",
              "      <th>Driver id</th>\n",
              "      <th>Status</th>\n",
              "      <th>Request timestamp</th>\n",
              "      <th>Drop timestamp</th>\n",
              "    </tr>\n",
              "  </thead>\n",
              "  <tbody>\n",
              "    <tr>\n",
              "      <th>0</th>\n",
              "      <td>619</td>\n",
              "      <td>Airport</td>\n",
              "      <td>1.0</td>\n",
              "      <td>Trip Completed</td>\n",
              "      <td>11/7/2016 11:51</td>\n",
              "      <td>11/7/2016 13:00</td>\n",
              "    </tr>\n",
              "    <tr>\n",
              "      <th>1</th>\n",
              "      <td>867</td>\n",
              "      <td>Airport</td>\n",
              "      <td>1.0</td>\n",
              "      <td>Trip Completed</td>\n",
              "      <td>11/7/2016 17:57</td>\n",
              "      <td>11/7/2016 18:47</td>\n",
              "    </tr>\n",
              "    <tr>\n",
              "      <th>2</th>\n",
              "      <td>1807</td>\n",
              "      <td>City</td>\n",
              "      <td>1.0</td>\n",
              "      <td>Trip Completed</td>\n",
              "      <td>12/7/2016 9:17</td>\n",
              "      <td>12/7/2016 9:58</td>\n",
              "    </tr>\n",
              "    <tr>\n",
              "      <th>3</th>\n",
              "      <td>2532</td>\n",
              "      <td>Airport</td>\n",
              "      <td>1.0</td>\n",
              "      <td>Trip Completed</td>\n",
              "      <td>12/7/2016 21:08</td>\n",
              "      <td>12/7/2016 22:03</td>\n",
              "    </tr>\n",
              "    <tr>\n",
              "      <th>4</th>\n",
              "      <td>3112</td>\n",
              "      <td>City</td>\n",
              "      <td>1.0</td>\n",
              "      <td>Trip Completed</td>\n",
              "      <td>13-07-2016 08:33:16</td>\n",
              "      <td>13-07-2016 09:25:47</td>\n",
              "    </tr>\n",
              "  </tbody>\n",
              "</table>\n",
              "</div>"
            ],
            "text/plain": [
              "   Request id Pickup point  ...    Request timestamp       Drop timestamp\n",
              "0         619      Airport  ...      11/7/2016 11:51      11/7/2016 13:00\n",
              "1         867      Airport  ...      11/7/2016 17:57      11/7/2016 18:47\n",
              "2        1807         City  ...       12/7/2016 9:17       12/7/2016 9:58\n",
              "3        2532      Airport  ...      12/7/2016 21:08      12/7/2016 22:03\n",
              "4        3112         City  ...  13-07-2016 08:33:16  13-07-2016 09:25:47\n",
              "\n",
              "[5 rows x 6 columns]"
            ]
          },
          "metadata": {
            "tags": []
          },
          "execution_count": 5
        }
      ]
    },
    {
      "cell_type": "markdown",
      "metadata": {
        "id": "mLCNNunir569",
        "colab_type": "text"
      },
      "source": [
        "### Data Cleaning"
      ]
    },
    {
      "cell_type": "markdown",
      "metadata": {
        "id": "-jTfpogerplv",
        "colab_type": "text"
      },
      "source": [
        "As we can see that the Request and Drop timestamp are not in proper format.So we need to convert them in proper format"
      ]
    },
    {
      "cell_type": "code",
      "metadata": {
        "id": "EdC02un9rbSO",
        "colab_type": "code",
        "colab": {}
      },
      "source": [
        "df['Request timestamp']=df['Request timestamp'].map(pd.to_datetime)            #Changing datetime format to proper format\n",
        "df['Drop timestamp']=df['Drop timestamp'].map(pd.to_datetime)"
      ],
      "execution_count": 0,
      "outputs": []
    },
    {
      "cell_type": "code",
      "metadata": {
        "id": "_13KCEEesrDk",
        "colab_type": "code",
        "outputId": "96ee2fba-9d85-4a9d-e0d2-9622edfe8502",
        "colab": {
          "base_uri": "https://localhost:8080/",
          "height": 195
        }
      },
      "source": [
        "df.head()"
      ],
      "execution_count": 0,
      "outputs": [
        {
          "output_type": "execute_result",
          "data": {
            "text/html": [
              "<div>\n",
              "<style scoped>\n",
              "    .dataframe tbody tr th:only-of-type {\n",
              "        vertical-align: middle;\n",
              "    }\n",
              "\n",
              "    .dataframe tbody tr th {\n",
              "        vertical-align: top;\n",
              "    }\n",
              "\n",
              "    .dataframe thead th {\n",
              "        text-align: right;\n",
              "    }\n",
              "</style>\n",
              "<table border=\"1\" class=\"dataframe\">\n",
              "  <thead>\n",
              "    <tr style=\"text-align: right;\">\n",
              "      <th></th>\n",
              "      <th>Request id</th>\n",
              "      <th>Pickup point</th>\n",
              "      <th>Driver id</th>\n",
              "      <th>Status</th>\n",
              "      <th>Request timestamp</th>\n",
              "      <th>Drop timestamp</th>\n",
              "    </tr>\n",
              "  </thead>\n",
              "  <tbody>\n",
              "    <tr>\n",
              "      <th>0</th>\n",
              "      <td>619</td>\n",
              "      <td>Airport</td>\n",
              "      <td>1.0</td>\n",
              "      <td>Trip Completed</td>\n",
              "      <td>2016-11-07 11:51:00</td>\n",
              "      <td>2016-11-07 13:00:00</td>\n",
              "    </tr>\n",
              "    <tr>\n",
              "      <th>1</th>\n",
              "      <td>867</td>\n",
              "      <td>Airport</td>\n",
              "      <td>1.0</td>\n",
              "      <td>Trip Completed</td>\n",
              "      <td>2016-11-07 17:57:00</td>\n",
              "      <td>2016-11-07 18:47:00</td>\n",
              "    </tr>\n",
              "    <tr>\n",
              "      <th>2</th>\n",
              "      <td>1807</td>\n",
              "      <td>City</td>\n",
              "      <td>1.0</td>\n",
              "      <td>Trip Completed</td>\n",
              "      <td>2016-12-07 09:17:00</td>\n",
              "      <td>2016-12-07 09:58:00</td>\n",
              "    </tr>\n",
              "    <tr>\n",
              "      <th>3</th>\n",
              "      <td>2532</td>\n",
              "      <td>Airport</td>\n",
              "      <td>1.0</td>\n",
              "      <td>Trip Completed</td>\n",
              "      <td>2016-12-07 21:08:00</td>\n",
              "      <td>2016-12-07 22:03:00</td>\n",
              "    </tr>\n",
              "    <tr>\n",
              "      <th>4</th>\n",
              "      <td>3112</td>\n",
              "      <td>City</td>\n",
              "      <td>1.0</td>\n",
              "      <td>Trip Completed</td>\n",
              "      <td>2016-07-13 08:33:16</td>\n",
              "      <td>2016-07-13 09:25:47</td>\n",
              "    </tr>\n",
              "  </tbody>\n",
              "</table>\n",
              "</div>"
            ],
            "text/plain": [
              "   Request id Pickup point  ...   Request timestamp      Drop timestamp\n",
              "0         619      Airport  ... 2016-11-07 11:51:00 2016-11-07 13:00:00\n",
              "1         867      Airport  ... 2016-11-07 17:57:00 2016-11-07 18:47:00\n",
              "2        1807         City  ... 2016-12-07 09:17:00 2016-12-07 09:58:00\n",
              "3        2532      Airport  ... 2016-12-07 21:08:00 2016-12-07 22:03:00\n",
              "4        3112         City  ... 2016-07-13 08:33:16 2016-07-13 09:25:47\n",
              "\n",
              "[5 rows x 6 columns]"
            ]
          },
          "metadata": {
            "tags": []
          },
          "execution_count": 6
        }
      ]
    },
    {
      "cell_type": "code",
      "metadata": {
        "id": "BaXWF79msto8",
        "colab_type": "code",
        "outputId": "066c1dc1-101f-4c71-dca6-7a4b3b94c838",
        "colab": {
          "base_uri": "https://localhost:8080/",
          "height": 432
        }
      },
      "source": [
        "df.describe(include='all')"
      ],
      "execution_count": 0,
      "outputs": [
        {
          "output_type": "execute_result",
          "data": {
            "text/html": [
              "<div>\n",
              "<style scoped>\n",
              "    .dataframe tbody tr th:only-of-type {\n",
              "        vertical-align: middle;\n",
              "    }\n",
              "\n",
              "    .dataframe tbody tr th {\n",
              "        vertical-align: top;\n",
              "    }\n",
              "\n",
              "    .dataframe thead th {\n",
              "        text-align: right;\n",
              "    }\n",
              "</style>\n",
              "<table border=\"1\" class=\"dataframe\">\n",
              "  <thead>\n",
              "    <tr style=\"text-align: right;\">\n",
              "      <th></th>\n",
              "      <th>Request id</th>\n",
              "      <th>Pickup point</th>\n",
              "      <th>Driver id</th>\n",
              "      <th>Status</th>\n",
              "      <th>Request timestamp</th>\n",
              "      <th>Drop timestamp</th>\n",
              "    </tr>\n",
              "  </thead>\n",
              "  <tbody>\n",
              "    <tr>\n",
              "      <th>count</th>\n",
              "      <td>6745.000000</td>\n",
              "      <td>6745</td>\n",
              "      <td>4095.000000</td>\n",
              "      <td>6745</td>\n",
              "      <td>6745</td>\n",
              "      <td>2831</td>\n",
              "    </tr>\n",
              "    <tr>\n",
              "      <th>unique</th>\n",
              "      <td>NaN</td>\n",
              "      <td>2</td>\n",
              "      <td>NaN</td>\n",
              "      <td>3</td>\n",
              "      <td>5618</td>\n",
              "      <td>2598</td>\n",
              "    </tr>\n",
              "    <tr>\n",
              "      <th>top</th>\n",
              "      <td>NaN</td>\n",
              "      <td>City</td>\n",
              "      <td>NaN</td>\n",
              "      <td>Trip Completed</td>\n",
              "      <td>2016-11-07 19:02:00</td>\n",
              "      <td>2016-12-07 21:04:00</td>\n",
              "    </tr>\n",
              "    <tr>\n",
              "      <th>freq</th>\n",
              "      <td>NaN</td>\n",
              "      <td>3507</td>\n",
              "      <td>NaN</td>\n",
              "      <td>2831</td>\n",
              "      <td>6</td>\n",
              "      <td>4</td>\n",
              "    </tr>\n",
              "    <tr>\n",
              "      <th>first</th>\n",
              "      <td>NaN</td>\n",
              "      <td>NaN</td>\n",
              "      <td>NaN</td>\n",
              "      <td>NaN</td>\n",
              "      <td>2016-07-13 00:00:24</td>\n",
              "      <td>2016-07-13 00:01:12</td>\n",
              "    </tr>\n",
              "    <tr>\n",
              "      <th>last</th>\n",
              "      <td>NaN</td>\n",
              "      <td>NaN</td>\n",
              "      <td>NaN</td>\n",
              "      <td>NaN</td>\n",
              "      <td>2016-12-07 23:54:00</td>\n",
              "      <td>2016-12-07 23:45:00</td>\n",
              "    </tr>\n",
              "    <tr>\n",
              "      <th>mean</th>\n",
              "      <td>3384.644922</td>\n",
              "      <td>NaN</td>\n",
              "      <td>149.501343</td>\n",
              "      <td>NaN</td>\n",
              "      <td>NaN</td>\n",
              "      <td>NaN</td>\n",
              "    </tr>\n",
              "    <tr>\n",
              "      <th>std</th>\n",
              "      <td>1955.099667</td>\n",
              "      <td>NaN</td>\n",
              "      <td>86.051994</td>\n",
              "      <td>NaN</td>\n",
              "      <td>NaN</td>\n",
              "      <td>NaN</td>\n",
              "    </tr>\n",
              "    <tr>\n",
              "      <th>min</th>\n",
              "      <td>1.000000</td>\n",
              "      <td>NaN</td>\n",
              "      <td>1.000000</td>\n",
              "      <td>NaN</td>\n",
              "      <td>NaN</td>\n",
              "      <td>NaN</td>\n",
              "    </tr>\n",
              "    <tr>\n",
              "      <th>25%</th>\n",
              "      <td>1691.000000</td>\n",
              "      <td>NaN</td>\n",
              "      <td>75.000000</td>\n",
              "      <td>NaN</td>\n",
              "      <td>NaN</td>\n",
              "      <td>NaN</td>\n",
              "    </tr>\n",
              "    <tr>\n",
              "      <th>50%</th>\n",
              "      <td>3387.000000</td>\n",
              "      <td>NaN</td>\n",
              "      <td>149.000000</td>\n",
              "      <td>NaN</td>\n",
              "      <td>NaN</td>\n",
              "      <td>NaN</td>\n",
              "    </tr>\n",
              "    <tr>\n",
              "      <th>75%</th>\n",
              "      <td>5080.000000</td>\n",
              "      <td>NaN</td>\n",
              "      <td>224.000000</td>\n",
              "      <td>NaN</td>\n",
              "      <td>NaN</td>\n",
              "      <td>NaN</td>\n",
              "    </tr>\n",
              "    <tr>\n",
              "      <th>max</th>\n",
              "      <td>6766.000000</td>\n",
              "      <td>NaN</td>\n",
              "      <td>300.000000</td>\n",
              "      <td>NaN</td>\n",
              "      <td>NaN</td>\n",
              "      <td>NaN</td>\n",
              "    </tr>\n",
              "  </tbody>\n",
              "</table>\n",
              "</div>"
            ],
            "text/plain": [
              "         Request id Pickup point  ...    Request timestamp       Drop timestamp\n",
              "count   6745.000000         6745  ...                 6745                 2831\n",
              "unique          NaN            2  ...                 5618                 2598\n",
              "top             NaN         City  ...  2016-11-07 19:02:00  2016-12-07 21:04:00\n",
              "freq            NaN         3507  ...                    6                    4\n",
              "first           NaN          NaN  ...  2016-07-13 00:00:24  2016-07-13 00:01:12\n",
              "last            NaN          NaN  ...  2016-12-07 23:54:00  2016-12-07 23:45:00\n",
              "mean    3384.644922          NaN  ...                  NaN                  NaN\n",
              "std     1955.099667          NaN  ...                  NaN                  NaN\n",
              "min        1.000000          NaN  ...                  NaN                  NaN\n",
              "25%     1691.000000          NaN  ...                  NaN                  NaN\n",
              "50%     3387.000000          NaN  ...                  NaN                  NaN\n",
              "75%     5080.000000          NaN  ...                  NaN                  NaN\n",
              "max     6766.000000          NaN  ...                  NaN                  NaN\n",
              "\n",
              "[13 rows x 6 columns]"
            ]
          },
          "metadata": {
            "tags": []
          },
          "execution_count": 14
        }
      ]
    },
    {
      "cell_type": "markdown",
      "metadata": {
        "id": "JmTRRn9FtgHv",
        "colab_type": "text"
      },
      "source": [
        "### We can see that there is no need of Request id and Driver id so we can drop these two columns."
      ]
    },
    {
      "cell_type": "code",
      "metadata": {
        "id": "GHY41PhGtRD-",
        "colab_type": "code",
        "colab": {}
      },
      "source": [
        "df.drop('Driver id', axis=1, inplace=True)                       # Removing Driver and Request id\n",
        "df.drop('Request id', axis=1, inplace=True)"
      ],
      "execution_count": 0,
      "outputs": []
    },
    {
      "cell_type": "code",
      "metadata": {
        "id": "c4fbd8EA0w7l",
        "colab_type": "code",
        "outputId": "f5815863-5338-4ed6-93c2-90d65a10fa97",
        "colab": {
          "base_uri": "https://localhost:8080/",
          "height": 195
        }
      },
      "source": [
        "df.head()"
      ],
      "execution_count": 0,
      "outputs": [
        {
          "output_type": "execute_result",
          "data": {
            "text/html": [
              "<div>\n",
              "<style scoped>\n",
              "    .dataframe tbody tr th:only-of-type {\n",
              "        vertical-align: middle;\n",
              "    }\n",
              "\n",
              "    .dataframe tbody tr th {\n",
              "        vertical-align: top;\n",
              "    }\n",
              "\n",
              "    .dataframe thead th {\n",
              "        text-align: right;\n",
              "    }\n",
              "</style>\n",
              "<table border=\"1\" class=\"dataframe\">\n",
              "  <thead>\n",
              "    <tr style=\"text-align: right;\">\n",
              "      <th></th>\n",
              "      <th>Pickup point</th>\n",
              "      <th>Status</th>\n",
              "      <th>Request timestamp</th>\n",
              "      <th>Drop timestamp</th>\n",
              "    </tr>\n",
              "  </thead>\n",
              "  <tbody>\n",
              "    <tr>\n",
              "      <th>0</th>\n",
              "      <td>Airport</td>\n",
              "      <td>Trip Completed</td>\n",
              "      <td>2016-11-07 11:51:00</td>\n",
              "      <td>2016-11-07 13:00:00</td>\n",
              "    </tr>\n",
              "    <tr>\n",
              "      <th>1</th>\n",
              "      <td>Airport</td>\n",
              "      <td>Trip Completed</td>\n",
              "      <td>2016-11-07 17:57:00</td>\n",
              "      <td>2016-11-07 18:47:00</td>\n",
              "    </tr>\n",
              "    <tr>\n",
              "      <th>2</th>\n",
              "      <td>City</td>\n",
              "      <td>Trip Completed</td>\n",
              "      <td>2016-12-07 09:17:00</td>\n",
              "      <td>2016-12-07 09:58:00</td>\n",
              "    </tr>\n",
              "    <tr>\n",
              "      <th>3</th>\n",
              "      <td>Airport</td>\n",
              "      <td>Trip Completed</td>\n",
              "      <td>2016-12-07 21:08:00</td>\n",
              "      <td>2016-12-07 22:03:00</td>\n",
              "    </tr>\n",
              "    <tr>\n",
              "      <th>4</th>\n",
              "      <td>City</td>\n",
              "      <td>Trip Completed</td>\n",
              "      <td>2016-07-13 08:33:16</td>\n",
              "      <td>2016-07-13 09:25:47</td>\n",
              "    </tr>\n",
              "  </tbody>\n",
              "</table>\n",
              "</div>"
            ],
            "text/plain": [
              "  Pickup point          Status   Request timestamp      Drop timestamp\n",
              "0      Airport  Trip Completed 2016-11-07 11:51:00 2016-11-07 13:00:00\n",
              "1      Airport  Trip Completed 2016-11-07 17:57:00 2016-11-07 18:47:00\n",
              "2         City  Trip Completed 2016-12-07 09:17:00 2016-12-07 09:58:00\n",
              "3      Airport  Trip Completed 2016-12-07 21:08:00 2016-12-07 22:03:00\n",
              "4         City  Trip Completed 2016-07-13 08:33:16 2016-07-13 09:25:47"
            ]
          },
          "metadata": {
            "tags": []
          },
          "execution_count": 21
        }
      ]
    },
    {
      "cell_type": "markdown",
      "metadata": {
        "id": "q0yDUV3rOJHG",
        "colab_type": "text"
      },
      "source": [
        "### Creating new columns"
      ]
    },
    {
      "cell_type": "code",
      "metadata": {
        "id": "JHuestXfOP_t",
        "colab_type": "code",
        "colab": {}
      },
      "source": [
        "df['Request date'] = [d.date() for d in df['Request timestamp']]                                            #Separating date\n",
        "df['Request time'] = [d.time() for d in df['Request timestamp']]                                            #Separating time\n",
        "df['Request hour'] = df['Request timestamp'].dt.hour                                                        #Creating request hour\n",
        "df['Request timestamp'] = pd.to_datetime(df['Request timestamp'], format = '%d/%m/%Y %H:%M:%S')\n",
        "\n",
        "df['Day of Week'] = df['Request timestamp'].dt.weekday_name                                                  # Getting weekday name from request timestamp\n",
        "df['Request_timestamp']=df['Request timestamp']\n",
        "df=df.assign(session=pd.cut(df.Request_timestamp.dt.hour,[0,3,6,12,16,21,24],labels=['Late Night','Early Morning','Morning','Afternoon','Evening','Night']))\n",
        "\n"
      ],
      "execution_count": 0,
      "outputs": []
    },
    {
      "cell_type": "code",
      "metadata": {
        "id": "1mHZMFWKOYcC",
        "colab_type": "code",
        "outputId": "0488310f-5d22-4984-9428-ed403b0c1e45",
        "colab": {
          "base_uri": "https://localhost:8080/",
          "height": 195
        }
      },
      "source": [
        "df.head()"
      ],
      "execution_count": 0,
      "outputs": [
        {
          "output_type": "execute_result",
          "data": {
            "text/html": [
              "<div>\n",
              "<style scoped>\n",
              "    .dataframe tbody tr th:only-of-type {\n",
              "        vertical-align: middle;\n",
              "    }\n",
              "\n",
              "    .dataframe tbody tr th {\n",
              "        vertical-align: top;\n",
              "    }\n",
              "\n",
              "    .dataframe thead th {\n",
              "        text-align: right;\n",
              "    }\n",
              "</style>\n",
              "<table border=\"1\" class=\"dataframe\">\n",
              "  <thead>\n",
              "    <tr style=\"text-align: right;\">\n",
              "      <th></th>\n",
              "      <th>Pickup point</th>\n",
              "      <th>Status</th>\n",
              "      <th>Request timestamp</th>\n",
              "      <th>Drop timestamp</th>\n",
              "      <th>Request date</th>\n",
              "      <th>Request time</th>\n",
              "      <th>Request hour</th>\n",
              "      <th>Day of Week</th>\n",
              "      <th>Request_timestamp</th>\n",
              "      <th>session</th>\n",
              "    </tr>\n",
              "  </thead>\n",
              "  <tbody>\n",
              "    <tr>\n",
              "      <th>0</th>\n",
              "      <td>Airport</td>\n",
              "      <td>Trip Completed</td>\n",
              "      <td>2016-11-07 11:51:00</td>\n",
              "      <td>2016-11-07 13:00:00</td>\n",
              "      <td>2016-11-07</td>\n",
              "      <td>11:51:00</td>\n",
              "      <td>11</td>\n",
              "      <td>Monday</td>\n",
              "      <td>2016-11-07 11:51:00</td>\n",
              "      <td>Morning</td>\n",
              "    </tr>\n",
              "    <tr>\n",
              "      <th>1</th>\n",
              "      <td>Airport</td>\n",
              "      <td>Trip Completed</td>\n",
              "      <td>2016-11-07 17:57:00</td>\n",
              "      <td>2016-11-07 18:47:00</td>\n",
              "      <td>2016-11-07</td>\n",
              "      <td>17:57:00</td>\n",
              "      <td>17</td>\n",
              "      <td>Monday</td>\n",
              "      <td>2016-11-07 17:57:00</td>\n",
              "      <td>Evening</td>\n",
              "    </tr>\n",
              "    <tr>\n",
              "      <th>2</th>\n",
              "      <td>City</td>\n",
              "      <td>Trip Completed</td>\n",
              "      <td>2016-12-07 09:17:00</td>\n",
              "      <td>2016-12-07 09:58:00</td>\n",
              "      <td>2016-12-07</td>\n",
              "      <td>09:17:00</td>\n",
              "      <td>9</td>\n",
              "      <td>Wednesday</td>\n",
              "      <td>2016-12-07 09:17:00</td>\n",
              "      <td>Morning</td>\n",
              "    </tr>\n",
              "    <tr>\n",
              "      <th>3</th>\n",
              "      <td>Airport</td>\n",
              "      <td>Trip Completed</td>\n",
              "      <td>2016-12-07 21:08:00</td>\n",
              "      <td>2016-12-07 22:03:00</td>\n",
              "      <td>2016-12-07</td>\n",
              "      <td>21:08:00</td>\n",
              "      <td>21</td>\n",
              "      <td>Wednesday</td>\n",
              "      <td>2016-12-07 21:08:00</td>\n",
              "      <td>Evening</td>\n",
              "    </tr>\n",
              "    <tr>\n",
              "      <th>4</th>\n",
              "      <td>City</td>\n",
              "      <td>Trip Completed</td>\n",
              "      <td>2016-07-13 08:33:16</td>\n",
              "      <td>2016-07-13 09:25:47</td>\n",
              "      <td>2016-07-13</td>\n",
              "      <td>08:33:16</td>\n",
              "      <td>8</td>\n",
              "      <td>Wednesday</td>\n",
              "      <td>2016-07-13 08:33:16</td>\n",
              "      <td>Morning</td>\n",
              "    </tr>\n",
              "  </tbody>\n",
              "</table>\n",
              "</div>"
            ],
            "text/plain": [
              "  Pickup point          Status  ...   Request_timestamp  session\n",
              "0      Airport  Trip Completed  ... 2016-11-07 11:51:00  Morning\n",
              "1      Airport  Trip Completed  ... 2016-11-07 17:57:00  Evening\n",
              "2         City  Trip Completed  ... 2016-12-07 09:17:00  Morning\n",
              "3      Airport  Trip Completed  ... 2016-12-07 21:08:00  Evening\n",
              "4         City  Trip Completed  ... 2016-07-13 08:33:16  Morning\n",
              "\n",
              "[5 rows x 10 columns]"
            ]
          },
          "metadata": {
            "tags": []
          },
          "execution_count": 10
        }
      ]
    },
    {
      "cell_type": "markdown",
      "metadata": {
        "id": "5XuVbUQm1kHk",
        "colab_type": "text"
      },
      "source": [
        "### Check null values"
      ]
    },
    {
      "cell_type": "code",
      "metadata": {
        "id": "CGhcz3EI0ykJ",
        "colab_type": "code",
        "outputId": "df791e0f-d1c8-42d6-fc63-8ab71b870ec6",
        "colab": {
          "base_uri": "https://localhost:8080/",
          "height": 101
        }
      },
      "source": [
        "df.isnull().sum()"
      ],
      "execution_count": 0,
      "outputs": [
        {
          "output_type": "execute_result",
          "data": {
            "text/plain": [
              "Pickup point            0\n",
              "Status                  0\n",
              "Request timestamp       0\n",
              "Drop timestamp       3914\n",
              "dtype: int64"
            ]
          },
          "metadata": {
            "tags": []
          },
          "execution_count": 25
        }
      ]
    },
    {
      "cell_type": "markdown",
      "metadata": {
        "id": "SVoN_gfL17WG",
        "colab_type": "text"
      },
      "source": [
        "There are null values in drop timestamp because of non availability or cancellation of cabs."
      ]
    },
    {
      "cell_type": "markdown",
      "metadata": {
        "id": "aqhvo37C2bb3",
        "colab_type": "text"
      },
      "source": [
        "## The Problem"
      ]
    },
    {
      "cell_type": "code",
      "metadata": {
        "id": "7fmA89f61pPV",
        "colab_type": "code",
        "outputId": "3490126f-6f26-410c-ccdd-bad1d508c268",
        "colab": {
          "base_uri": "https://localhost:8080/",
          "height": 84
        }
      },
      "source": [
        "df['Status'].value_counts()"
      ],
      "execution_count": 0,
      "outputs": [
        {
          "output_type": "execute_result",
          "data": {
            "text/plain": [
              "Trip Completed       2831\n",
              "No Cars Available    2650\n",
              "Cancelled            1264\n",
              "Name: Status, dtype: int64"
            ]
          },
          "metadata": {
            "tags": []
          },
          "execution_count": 27
        }
      ]
    },
    {
      "cell_type": "code",
      "metadata": {
        "id": "w-TO-AwO2q7g",
        "colab_type": "code",
        "outputId": "58ea7822-85cd-4487-aa80-96caa59b288a",
        "colab": {
          "base_uri": "https://localhost:8080/",
          "height": 67
        }
      },
      "source": [
        "df['Pickup point'].value_counts()"
      ],
      "execution_count": 0,
      "outputs": [
        {
          "output_type": "execute_result",
          "data": {
            "text/plain": [
              "City       3507\n",
              "Airport    3238\n",
              "Name: Pickup point, dtype: int64"
            ]
          },
          "metadata": {
            "tags": []
          },
          "execution_count": 28
        }
      ]
    },
    {
      "cell_type": "code",
      "metadata": {
        "id": "VuF4p7o1L65q",
        "colab_type": "code",
        "outputId": "a776983b-2635-4cab-cbf2-8a05bd5bdda7",
        "colab": {
          "base_uri": "https://localhost:8080/",
          "height": 312
        }
      },
      "source": [
        "sns.set(style=\"darkgrid\")\n",
        "plt.title('Total request')\n",
        "plt.ylabel('Total number of request')\n",
        "ax=df['Pickup point'].value_counts().plot.bar(color='green')\n",
        "for p in ax.patches:\n",
        "    height = p.get_height()\n",
        "    ax.text(p.get_x()+p.get_width()/2.,\n",
        "            height + 3,\n",
        "            '{:1.2f}%'.format((height/total)*100),\n",
        "            ha=\"center\") \n",
        "show()"
      ],
      "execution_count": 0,
      "outputs": [
        {
          "output_type": "display_data",
          "data": {
            "image/png": "[encoded data removed]",
            "text/plain": [
              "<Figure size 432x288 with 1 Axes>"
            ]
          },
          "metadata": {
            "tags": []
          }
        }
      ]
    },
    {
      "cell_type": "code",
      "metadata": {
        "id": "lyHkGVfz2zCh",
        "colab_type": "code",
        "colab": {}
      },
      "source": [
        "from matplotlib.pyplot import show\n",
        "total = float(len(df))\n"
      ],
      "execution_count": 0,
      "outputs": []
    },
    {
      "cell_type": "code",
      "metadata": {
        "id": "mI32aDnV2-gi",
        "colab_type": "code",
        "outputId": "72dee8a0-fe1c-4a73-9589-ed74df12ddf3",
        "colab": {
          "base_uri": "https://localhost:8080/",
          "height": 611
        }
      },
      "source": [
        "plt.figure(figsize=(7,6))\n",
        "plt.title('Total response')\n",
        "plt.ylabel('Total number of request')\n",
        "sns.set(style=\"darkgrid\")\n",
        "ax=sns.countplot(x='Status',data=df,hue='Status',palette={\"Cancelled\":\"Red\" , \"No Cars Available\": \"Red\",\"Trip Completed\":\"#FFE888\"})\n",
        "for p in ax.patches:\n",
        "    height = p.get_height()\n",
        "    ax.text(p.get_x()+p.get_width()/2.,\n",
        "            height + 3,\n",
        "            '{:1.2f}%'.format((height/total)*100),\n",
        "            ha=\"center\") \n",
        "show()"
      ],
      "execution_count": 0,
      "outputs": [
        {
          "output_type": "stream",
          "text": [
            "posx and posy should be finite values\n",
            "posx and posy should be finite values\n",
            "posx and posy should be finite values\n",
            "posx and posy should be finite values\n",
            "posx and posy should be finite values\n",
            "posx and posy should be finite values\n",
            "posx and posy should be finite values\n",
            "posx and posy should be finite values\n",
            "posx and posy should be finite values\n",
            "posx and posy should be finite values\n",
            "posx and posy should be finite values\n",
            "posx and posy should be finite values\n"
          ],
          "name": "stderr"
        },
        {
          "output_type": "display_data",
          "data": {
            "image/png": "[encoded data removed]",
            "text/plain": [
              "<Figure size 504x432 with 1 Axes>"
            ]
          },
          "metadata": {
            "tags": []
          }
        }
      ]
    },
    {
      "cell_type": "markdown",
      "metadata": {
        "id": "cXLQ4KBIRk6Y",
        "colab_type": "text"
      },
      "source": [
        "#### As we can see there are almost equivalent request from airport to city and vice cersa .<br>\n",
        "#### But there is a huge gap in supply 58% .Only ~42% requests are  getting fulfilled and  rest are either cancelled or the cars are not available."
      ]
    },
    {
      "cell_type": "markdown",
      "metadata": {
        "id": "koGxN3G7SsYA",
        "colab_type": "text"
      },
      "source": [
        "### Overall demand based on Date and time"
      ]
    },
    {
      "cell_type": "code",
      "metadata": {
        "id": "9kvZkzJGSr0Q",
        "colab_type": "code",
        "outputId": "feb21f52-cd5b-4b83-cd1f-95ac35c99bc8",
        "colab": {
          "base_uri": "https://localhost:8080/",
          "height": 308
        }
      },
      "source": [
        "sns.boxplot(x=\"Request date\", y=\"Request hour\", data=df,palette=\"Set3\")"
      ],
      "execution_count": 0,
      "outputs": [
        {
          "output_type": "execute_result",
          "data": {
            "text/plain": [
              "<matplotlib.axes._subplots.AxesSubplot at 0x7f95c22224a8>"
            ]
          },
          "metadata": {
            "tags": []
          },
          "execution_count": 60
        },
        {
          "output_type": "display_data",
          "data": {
            "image/png": "[encoded data removed]",
            "text/plain": [
              "<Figure size 432x288 with 1 Axes>"
            ]
          },
          "metadata": {
            "tags": []
          }
        }
      ]
    },
    {
      "cell_type": "markdown",
      "metadata": {
        "id": "NbjyXsRbUHr9",
        "colab_type": "text"
      },
      "source": [
        "#### As we can see there is no effect of date ,Demand remains the same irrespective of Request date."
      ]
    },
    {
      "cell_type": "code",
      "metadata": {
        "id": "gUzbig4RMVX4",
        "colab_type": "code",
        "outputId": "c3e90cc7-56a5-48b3-80fc-4afc90e44b09",
        "colab": {
          "base_uri": "https://localhost:8080/",
          "height": 308
        }
      },
      "source": [
        "sns.boxplot(x=\"Day of Week\", y=\"Request hour\",hue='Pickup point',palette={\"City\": \"#FFE888\", \"Airport\": \"Red\"}, data=df)"
      ],
      "execution_count": 0,
      "outputs": [
        {
          "output_type": "execute_result",
          "data": {
            "text/plain": [
              "<matplotlib.axes._subplots.AxesSubplot at 0x7f95c21d2588>"
            ]
          },
          "metadata": {
            "tags": []
          },
          "execution_count": 61
        },
        {
          "output_type": "display_data",
          "data": {
            "image/png": "[encoded data removed]",
            "text/plain": [
              "<Figure size 432x288 with 1 Axes>"
            ]
          },
          "metadata": {
            "tags": []
          }
        }
      ]
    },
    {
      "cell_type": "markdown",
      "metadata": {
        "id": "VgnGZi4vUZLe",
        "colab_type": "text"
      },
      "source": [
        "#### As we can see there is no effect of *Weekday* ,demand remains the same"
      ]
    },
    {
      "cell_type": "markdown",
      "metadata": {
        "id": "4EpVRovOVACA",
        "colab_type": "text"
      },
      "source": [
        "### Demand pattern in a day"
      ]
    },
    {
      "cell_type": "code",
      "metadata": {
        "id": "fICMrHzcU_of",
        "colab_type": "code",
        "outputId": "f1ac8b0f-a1c8-4a46-86a5-2bdf0f95f585",
        "colab": {
          "base_uri": "https://localhost:8080/",
          "height": 308
        }
      },
      "source": [
        "sns.countplot(x=\"Request hour\", data=df)"
      ],
      "execution_count": 0,
      "outputs": [
        {
          "output_type": "execute_result",
          "data": {
            "text/plain": [
              "<matplotlib.axes._subplots.AxesSubplot at 0x7f95c26b79b0>"
            ]
          },
          "metadata": {
            "tags": []
          },
          "execution_count": 68
        },
        {
          "output_type": "display_data",
          "data": {
            "image/png": "[encoded data removed]",
            "text/plain": [
              "<Figure size 432x288 with 1 Axes>"
            ]
          },
          "metadata": {
            "tags": []
          }
        }
      ]
    },
    {
      "cell_type": "markdown",
      "metadata": {
        "id": "9MGhISIuXTu-",
        "colab_type": "text"
      },
      "source": [
        "#### As we can see *highest demand* is from 5am-9am early morning and from 5pm-9pm evening"
      ]
    },
    {
      "cell_type": "markdown",
      "metadata": {
        "id": "9-dJ1fEWXDI0",
        "colab_type": "text"
      },
      "source": [
        "### Request at different hour at city and airport"
      ]
    },
    {
      "cell_type": "code",
      "metadata": {
        "id": "39vRLLacUGCh",
        "colab_type": "code",
        "outputId": "e9da66d2-c9c8-47c0-8152-8823e79a4743",
        "colab": {
          "base_uri": "https://localhost:8080/",
          "height": 423
        }
      },
      "source": [
        "\n",
        "g=sns.catplot(y=\"Request hour\", col=\"Pickup point\", kind=\"count\",height=4, aspect=.7,data=df)\n",
        "g.fig.set_figheight(10)\n",
        "g.fig.set_figheight(6)"
      ],
      "execution_count": 0,
      "outputs": [
        {
          "output_type": "display_data",
          "data": {
            "image/png": "[encoded data removed]",
            "text/plain": [
              "<Figure size 403.2x432 with 2 Axes>"
            ]
          },
          "metadata": {
            "tags": []
          }
        }
      ]
    },
    {
      "cell_type": "markdown",
      "metadata": {
        "id": "nrQsUDyFX30N",
        "colab_type": "text"
      },
      "source": [
        "#### There is a high demand of cabs from city in early morning hours.\n",
        "#### There is a high demand of cabs from airport in the late evening and night hours i.e. from 5pm to 9pm\n"
      ]
    },
    {
      "cell_type": "markdown",
      "metadata": {
        "id": "yVZEqKgCYzuD",
        "colab_type": "text"
      },
      "source": [
        "#### This means there are chances of  having:\n",
        "\n",
        "\n",
        "\n",
        "\n",
        "\n",
        "  * >  more flights in early morning ,hence more customer going to airport from city.\n",
        "\n",
        "* > more flights in late evening and night ,hence more customer going to city from airport.\n",
        "\n",
        "\n",
        "\n"
      ]
    },
    {
      "cell_type": "markdown",
      "metadata": {
        "id": "9xzyqsy3ai79",
        "colab_type": "text"
      },
      "source": [
        "#### Supply based on time and location"
      ]
    },
    {
      "cell_type": "code",
      "metadata": {
        "id": "VkRF972UVdAD",
        "colab_type": "code",
        "outputId": "888f593b-73b3-4057-d190-6e9dd36ec26b",
        "colab": {
          "base_uri": "https://localhost:8080/",
          "height": 231
        }
      },
      "source": [
        "sns.set(style=\"darkgrid\")\n",
        "g=sns.catplot(y=\"Status\", col=\"Pickup point\",data=df,palette={\"Trip Completed\": \"Green\", \"Cancelled\": \"Red\",\"No Cars Available\":\"Brown\"},height=8, aspect=.7, kind=\"count\")\n",
        "g.fig.set_figheight(2.8)\n",
        "g.fig.set_figheight(2.3)\n",
        "\n"
      ],
      "execution_count": 0,
      "outputs": [
        {
          "output_type": "display_data",
          "data": {
            "image/png": "[encoded data removed]",
            "text/plain": [
              "<Figure size 806.4x165.6 with 2 Axes>"
            ]
          },
          "metadata": {
            "tags": []
          }
        }
      ]
    },
    {
      "cell_type": "markdown",
      "metadata": {
        "id": "DPQ3GKKsbdT1",
        "colab_type": "text"
      },
      "source": [
        "**From airport a large number of user faces can non-availability<br>\n",
        "From city user face:**\n",
        "\n",
        "*   cab denying service \n",
        "*   Non-availability\n",
        "\n"
      ]
    },
    {
      "cell_type": "markdown",
      "metadata": {
        "id": "S1IEu8b3cg4a",
        "colab_type": "text"
      },
      "source": [
        "### Supply based on time"
      ]
    },
    {
      "cell_type": "markdown",
      "metadata": {
        "id": "iDJpENeBfVVH",
        "colab_type": "text"
      },
      "source": [
        "\n",
        "**Sessions are divided according to hours:**\n",
        "\n",
        "\n",
        "*   0-3:*Late Night*\n",
        "*   3-6:*Early Morning*\n",
        "*   6-12:*'Morning*\n",
        "*   12-16:*'Afternoon*\n",
        "*   16-21:*Evening*\n",
        "*    21-0:*Night*\n",
        "\n"
      ]
    },
    {
      "cell_type": "code",
      "metadata": {
        "id": "HA5u_DqHW2TC",
        "colab_type": "code",
        "outputId": "965f546f-cf06-4fd2-ad7e-beb53bacb7a3",
        "colab": {
          "base_uri": "https://localhost:8080/",
          "height": 417
        }
      },
      "source": [
        "plt.figure(figsize=(7,6))\n",
        "sns.countplot(x=\"session\", hue=\"Status\",palette={\"Trip Completed\": \"Green\", \"Cancelled\": \"Pink\",\"No Cars Available\":\"Red\"} ,data=df)"
      ],
      "execution_count": 0,
      "outputs": [
        {
          "output_type": "execute_result",
          "data": {
            "text/plain": [
              "<matplotlib.axes._subplots.AxesSubplot at 0x7f95c1653da0>"
            ]
          },
          "metadata": {
            "tags": []
          },
          "execution_count": 93
        },
        {
          "output_type": "display_data",
          "data": {
            "image/png": "[encoded data removed]",
            "text/plain": [
              "<Figure size 504x432 with 1 Axes>"
            ]
          },
          "metadata": {
            "tags": []
          }
        }
      ]
    },
    {
      "cell_type": "markdown",
      "metadata": {
        "id": "BtmyKuBv32Nm",
        "colab_type": "text"
      },
      "source": [
        "### Demand supply gap"
      ]
    },
    {
      "cell_type": "code",
      "metadata": {
        "id": "o78et3Uczse5",
        "colab_type": "code",
        "outputId": "43a2d55d-a7a7-488e-f01b-c1072e600a95",
        "colab": {
          "base_uri": "https://localhost:8080/",
          "height": 470
        }
      },
      "source": [
        "# plot data\n",
        "fig, ax = plt.subplots(figsize=(15,7))\n",
        "# use unstack()\n",
        "df.groupby(['session','Status']).count()['Pickup point'].unstack().plot(ax=ax)\n"
      ],
      "execution_count": 0,
      "outputs": [
        {
          "output_type": "execute_result",
          "data": {
            "text/plain": [
              "<matplotlib.axes._subplots.AxesSubplot at 0x7f24a256ed68>"
            ]
          },
          "metadata": {
            "tags": []
          },
          "execution_count": 21
        },
        {
          "output_type": "display_data",
          "data": {
            "image/png": "[encoded data removed]",
            "text/plain": [
              "<Figure size 1080x504 with 1 Axes>"
            ]
          },
          "metadata": {
            "tags": []
          }
        }
      ]
    },
    {
      "cell_type": "markdown",
      "metadata": {
        "id": "ySPe7MWo3_m0",
        "colab_type": "text"
      },
      "source": [
        "## Reason for Supply-Demand gap\n",
        "• It was found the demand at peak times is mostly unidirectional and demand at destination around that was not enough for return trips for\n",
        "  drivers.<br>\n",
        "      ✓ It is recommended to provide incentives to drivers for trips to and from Airport during these rush hours (i.e. 5am to 11am and 5pm to 11pm).<br>\n",
        "      ✓ During these rush hours customers can be charged higher for trips to and from Airport.\n",
        "### Airport Pickup Supply-Demand gap<br>\n",
        "▪ Inflow of Uber cabs to the airport is less during late mornings and Mid day which results in lesser available\n",
        "  cabs from airport for evening drops.<br>\n",
        "▪ Driver needs to be idle for longer time to get booking back to city.\n",
        "\n",
        "\n",
        "### City Pickup Supply-Demand gap<br>\n",
        "▪ Chances of getting pickup is way more than that from Airport.<br>\n",
        "▪ Driver may get multiple chance of requests within city runs to complete his daily target, which might be the\n",
        "  reason for cancellation for airport travels.<br>\n",
        "▪ For most drivers end of day would be late evening\n",
        "\n"
      ]
    },
    {
      "cell_type": "markdown",
      "metadata": {
        "id": "EPwrM_Zf5fX7",
        "colab_type": "text"
      },
      "source": [
        "## Recommendations\n",
        "▪ Car pool service can be introduced to serve the multiple requests in rush hours<br>\n",
        "▪ Provide incentives for airport trips during peak time<br>\n",
        "▪ Impose penalty for cancellation of requests by Driver and set threshold for maximum number of\n",
        "  cancellations per day<br>\n",
        "▪ Provide base price for drivers idle time or to comeback to city with empty passengers.<br>\n",
        "▪ Cab pre book options can be initiated thus benefiting both customers and drivers as drivers would be\n",
        "  sure of getting pickup from airport.<br>\n",
        "▪ Promote to and from airport rides with more incentives for continuous 3-4 trips."
      ]
    },
    {
      "cell_type": "code",
      "metadata": {
        "id": "H4pHgz6Y088P",
        "colab_type": "code",
        "colab": {}
      },
      "source": [
        ""
      ],
      "execution_count": 0,
      "outputs": []
    }
  ]
}